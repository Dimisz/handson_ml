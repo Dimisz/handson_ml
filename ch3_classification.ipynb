{
  "nbformat": 4,
  "nbformat_minor": 0,
  "metadata": {
    "colab": {
      "name": "ch3_classification.ipynb",
      "provenance": [],
      "authorship_tag": "ABX9TyNeeZxCYW6F5xpww2eMII+X",
      "include_colab_link": true
    },
    "kernelspec": {
      "name": "python3",
      "display_name": "Python 3"
    },
    "language_info": {
      "name": "python"
    }
  },
  "cells": [
    {
      "cell_type": "markdown",
      "metadata": {
        "id": "view-in-github",
        "colab_type": "text"
      },
      "source": [
        "<a href=\"https://colab.research.google.com/github/Dimisz/handson_ml/blob/main/ch3_classification.ipynb\" target=\"_parent\"><img src=\"https://colab.research.google.com/assets/colab-badge.svg\" alt=\"Open In Colab\"/></a>"
      ]
    },
    {
      "cell_type": "markdown",
      "metadata": {
        "id": "oZwxdKvVp0uI"
      },
      "source": [
        "## Load in the data"
      ]
    },
    {
      "cell_type": "code",
      "metadata": {
        "id": "WNFDMREvr0H_"
      },
      "source": [
        "import numpy as np\n",
        "import pandas as pd"
      ],
      "execution_count": 1,
      "outputs": []
    },
    {
      "cell_type": "code",
      "metadata": {
        "id": "oHQRxYM4pgsb"
      },
      "source": [
        "from sklearn.datasets import fetch_openml"
      ],
      "execution_count": 2,
      "outputs": []
    },
    {
      "cell_type": "code",
      "metadata": {
        "colab": {
          "base_uri": "https://localhost:8080/"
        },
        "id": "u2hesWMPpsIJ",
        "outputId": "e574d8ec-5104-4fa5-a7f4-85eed609b3f2"
      },
      "source": [
        "mnist = fetch_openml('mnist_784', version=1)\n",
        "mnist.keys()"
      ],
      "execution_count": 3,
      "outputs": [
        {
          "output_type": "execute_result",
          "data": {
            "text/plain": [
              "dict_keys(['data', 'target', 'frame', 'feature_names', 'target_names', 'DESCR', 'details', 'categories', 'url'])"
            ]
          },
          "metadata": {},
          "execution_count": 3
        }
      ]
    },
    {
      "cell_type": "code",
      "metadata": {
        "id": "JAhUVLtNpzs2"
      },
      "source": [
        "X, y = mnist['data'], mnist['target']"
      ],
      "execution_count": 4,
      "outputs": []
    },
    {
      "cell_type": "code",
      "metadata": {
        "colab": {
          "base_uri": "https://localhost:8080/"
        },
        "id": "bJ0gglbPqN21",
        "outputId": "5595231e-8535-47e0-ba53-6a219e2a8d72"
      },
      "source": [
        "X.shape, y.shape"
      ],
      "execution_count": 5,
      "outputs": [
        {
          "output_type": "execute_result",
          "data": {
            "text/plain": [
              "((70000, 784), (70000,))"
            ]
          },
          "metadata": {},
          "execution_count": 5
        }
      ]
    },
    {
      "cell_type": "markdown",
      "metadata": {
        "id": "yBBdwU90qP8b"
      },
      "source": [
        "### Visualize a sample image"
      ]
    },
    {
      "cell_type": "code",
      "metadata": {
        "id": "I9sGFEtGqaMw"
      },
      "source": [
        "import matplotlib as mpl\n",
        "import matplotlib.pyplot as plt\n",
        "import random"
      ],
      "execution_count": 6,
      "outputs": []
    },
    {
      "cell_type": "code",
      "metadata": {
        "id": "gpdF-FAPqoar"
      },
      "source": [
        "random_index = random.randint(0,len(X)-1)\n",
        "some_digit = X[random_index]\n",
        "some_label = y[random_index]"
      ],
      "execution_count": 7,
      "outputs": []
    },
    {
      "cell_type": "code",
      "metadata": {
        "colab": {
          "base_uri": "https://localhost:8080/",
          "height": 248
        },
        "id": "7GoNxMDQqrl2",
        "outputId": "69b5c21d-fa64-47d1-aafa-293f82ae9a5e"
      },
      "source": [
        "some_digit_image = some_digit.reshape(28,28)\n",
        "plt.imshow(some_digit_image, cmap='binary')\n",
        "plt.axis(\"off\")\n",
        "plt.show()"
      ],
      "execution_count": 8,
      "outputs": [
        {
          "output_type": "display_data",
          "data": {
            "image/png": "[encoded data removed]",
            "text/plain": [
              "<Figure size 432x288 with 1 Axes>"
            ]
          },
          "metadata": {
            "needs_background": "light"
          }
        }
      ]
    },
    {
      "cell_type": "code",
      "metadata": {
        "colab": {
          "base_uri": "https://localhost:8080/",
          "height": 35
        },
        "id": "6mziMqiTrAAT",
        "outputId": "56adcfa7-eb53-48bb-b8d7-ff5026037783"
      },
      "source": [
        "some_label"
      ],
      "execution_count": 9,
      "outputs": [
        {
          "output_type": "execute_result",
          "data": {
            "application/vnd.google.colaboratory.intrinsic+json": {
              "type": "string"
            },
            "text/plain": [
              "'1'"
            ]
          },
          "metadata": {},
          "execution_count": 9
        }
      ]
    },
    {
      "cell_type": "code",
      "metadata": {
        "id": "GJzMpsvvri_W"
      },
      "source": [
        "# Cast labels from string to int\n",
        "y = y.astype(np.uint8)"
      ],
      "execution_count": 10,
      "outputs": []
    },
    {
      "cell_type": "markdown",
      "metadata": {
        "id": "XUCMRRsXr3vD"
      },
      "source": [
        "### Split into train/test sets\n",
        "\n",
        "MNIST dataset is already split into training data set: [:60000], [60000:]"
      ]
    },
    {
      "cell_type": "code",
      "metadata": {
        "id": "hjXLhM2LsSbw"
      },
      "source": [
        "X_train, X_test, y_train, y_test = X[:60000], X[60000:], y[:60000], y[60000:]"
      ],
      "execution_count": 11,
      "outputs": []
    },
    {
      "cell_type": "code",
      "metadata": {
        "colab": {
          "base_uri": "https://localhost:8080/"
        },
        "id": "KuIGAbjcse88",
        "outputId": "2a5b2bf6-5910-41be-a8de-983b7e2d6993"
      },
      "source": [
        "len(X_train), len(X_test), len(y_train), len(y_test)"
      ],
      "execution_count": 12,
      "outputs": [
        {
          "output_type": "execute_result",
          "data": {
            "text/plain": [
              "(60000, 10000, 60000, 10000)"
            ]
          },
          "metadata": {},
          "execution_count": 12
        }
      ]
    },
    {
      "cell_type": "markdown",
      "metadata": {
        "id": "jMGnSb1LsmDT"
      },
      "source": [
        "## Training a Binary Classifier"
      ]
    },
    {
      "cell_type": "markdown",
      "metadata": {
        "id": "7WHK219QsypE"
      },
      "source": [
        "Try to build a model to only detect 5-s, i.e. is the image '5' or not?"
      ]
    },
    {
      "cell_type": "code",
      "metadata": {
        "id": "35nOwFz7tSNW"
      },
      "source": [
        "y_train_5 = (y_train == 5) # True for 5s, False for non-5s\n",
        "y_test_5 = (y_test == 5)"
      ],
      "execution_count": 13,
      "outputs": []
    },
    {
      "cell_type": "markdown",
      "metadata": {
        "id": "BxADVT53tdI0"
      },
      "source": [
        "## Model 1: SGDClassifier"
      ]
    },
    {
      "cell_type": "code",
      "metadata": {
        "id": "ds4SyM3jvE6y"
      },
      "source": [
        "from sklearn.linear_model import SGDClassifier"
      ],
      "execution_count": 14,
      "outputs": []
    },
    {
      "cell_type": "code",
      "metadata": {
        "colab": {
          "base_uri": "https://localhost:8080/"
        },
        "id": "q_SBi4-JvMRq",
        "outputId": "1373ea6c-50c7-48db-8c65-1f783487e733"
      },
      "source": [
        "sgd_clf = SGDClassifier(random_state=42)\n",
        "sgd_clf.fit(X_train, y_train_5)"
      ],
      "execution_count": 15,
      "outputs": [
        {
          "output_type": "execute_result",
          "data": {
            "text/plain": [
              "SGDClassifier(alpha=0.0001, average=False, class_weight=None,\n",
              "              early_stopping=False, epsilon=0.1, eta0=0.0, fit_intercept=True,\n",
              "              l1_ratio=0.15, learning_rate='optimal', loss='hinge',\n",
              "              max_iter=1000, n_iter_no_change=5, n_jobs=None, penalty='l2',\n",
              "              power_t=0.5, random_state=42, shuffle=True, tol=0.001,\n",
              "              validation_fraction=0.1, verbose=0, warm_start=False)"
            ]
          },
          "metadata": {},
          "execution_count": 15
        }
      ]
    },
    {
      "cell_type": "code",
      "metadata": {
        "colab": {
          "base_uri": "https://localhost:8080/"
        },
        "id": "GsVaMy1GvWh5",
        "outputId": "ec41c2dc-2217-4692-edc2-44757661b180"
      },
      "source": [
        "sgd_clf.predict([some_digit])"
      ],
      "execution_count": 16,
      "outputs": [
        {
          "output_type": "execute_result",
          "data": {
            "text/plain": [
              "array([False])"
            ]
          },
          "metadata": {},
          "execution_count": 16
        }
      ]
    },
    {
      "cell_type": "markdown",
      "metadata": {
        "id": "onT-hJUZvhfh"
      },
      "source": [
        "### Cross-Validation"
      ]
    },
    {
      "cell_type": "markdown",
      "metadata": {
        "id": "vXUBNrwcxy0s"
      },
      "source": [
        "#### Custom kfold"
      ]
    },
    {
      "cell_type": "code",
      "metadata": {
        "id": "hDF7b-NLv6Zw"
      },
      "source": [
        "from sklearn.model_selection import StratifiedKFold\n",
        "from sklearn.base import clone"
      ],
      "execution_count": 17,
      "outputs": []
    },
    {
      "cell_type": "code",
      "metadata": {
        "colab": {
          "base_uri": "https://localhost:8080/"
        },
        "id": "stJeLTVQwAqC",
        "outputId": "0909dbe7-bb34-45f0-b3dd-ffe0176634d3"
      },
      "source": [
        "skfolds = StratifiedKFold(n_splits=3, random_state=42)\n",
        "\n",
        "for train_index, test_index in skfolds.split(X_train, y_train_5):\n",
        "  clone_clf = clone(sgd_clf)\n",
        "  X_train_folds = X_train[train_index]\n",
        "  y_train_folds = y_train_5[train_index]\n",
        "  X_test_fold = X_train[test_index]\n",
        "  y_test_fold = y_train_5[test_index]\n",
        "\n",
        "  clone_clf.fit(X_train_folds, y_train_folds)\n",
        "  y_pred = clone_clf.predict(X_test_fold)\n",
        "  n_correct = sum(y_pred == y_test_fold)\n",
        "  print(n_correct / len(y_pred))\n"
      ],
      "execution_count": 18,
      "outputs": [
        {
          "output_type": "stream",
          "name": "stderr",
          "text": [
            "/usr/local/lib/python3.7/dist-packages/sklearn/model_selection/_split.py:296: FutureWarning: Setting a random_state has no effect since shuffle is False. This will raise an error in 0.24. You should leave random_state to its default (None), or set shuffle=True.\n",
            "  FutureWarning\n"
          ]
        },
        {
          "output_type": "stream",
          "name": "stdout",
          "text": [
            "0.95035\n",
            "0.96035\n",
            "0.9604\n"
          ]
        }
      ]
    },
    {
      "cell_type": "markdown",
      "metadata": {
        "id": "F9yx9pXdxFTJ"
      },
      "source": [
        "#### using cross_val_score"
      ]
    },
    {
      "cell_type": "code",
      "metadata": {
        "colab": {
          "base_uri": "https://localhost:8080/"
        },
        "id": "ND7KBsvgx5nG",
        "outputId": "de3499dd-bb41-46ad-c049-95eb971bc20b"
      },
      "source": [
        "from sklearn.model_selection import cross_val_score\n",
        "cross_val_score(sgd_clf, X_train, y_train_5, cv=3, scoring=\"accuracy\")"
      ],
      "execution_count": 19,
      "outputs": [
        {
          "output_type": "execute_result",
          "data": {
            "text/plain": [
              "array([0.95035, 0.96035, 0.9604 ])"
            ]
          },
          "metadata": {},
          "execution_count": 19
        }
      ]
    },
    {
      "cell_type": "markdown",
      "metadata": {
        "id": "dhWopiZ6yHvs"
      },
      "source": [
        "## Dummy classifier that always predicts 'not 5'"
      ]
    },
    {
      "cell_type": "code",
      "metadata": {
        "id": "h1hp2n2AyYnz"
      },
      "source": [
        "from sklearn.base import BaseEstimator"
      ],
      "execution_count": 20,
      "outputs": []
    },
    {
      "cell_type": "code",
      "metadata": {
        "id": "0banfGWkyeC-"
      },
      "source": [
        "class Never5Classifier(BaseEstimator):\n",
        "  def fit(self, X, y=None):\n",
        "    return self\n",
        "  def predict(self, X):\n",
        "    return np.zeros((len(X), 1), dtype=bool)"
      ],
      "execution_count": 21,
      "outputs": []
    },
    {
      "cell_type": "code",
      "metadata": {
        "colab": {
          "base_uri": "https://localhost:8080/"
        },
        "id": "W9TqUYFnywjL",
        "outputId": "eb420d83-c756-419e-a949-48594a9de9de"
      },
      "source": [
        "never_5_clf = Never5Classifier()\n",
        "cross_val_score(never_5_clf, X_train, y_train_5, cv=3, scoring=\"accuracy\")"
      ],
      "execution_count": 22,
      "outputs": [
        {
          "output_type": "execute_result",
          "data": {
            "text/plain": [
              "array([0.91125, 0.90855, 0.90915])"
            ]
          },
          "metadata": {},
          "execution_count": 22
        }
      ]
    },
    {
      "cell_type": "markdown",
      "metadata": {
        "id": "7731MCARzAfF"
      },
      "source": [
        "## Confusion Matrix"
      ]
    },
    {
      "cell_type": "code",
      "metadata": {
        "id": "WS2bzX44modG"
      },
      "source": [
        "from sklearn.model_selection import cross_val_predict"
      ],
      "execution_count": 23,
      "outputs": []
    },
    {
      "cell_type": "code",
      "metadata": {
        "id": "dQdkIKoXmu-6"
      },
      "source": [
        "y_train_pred = cross_val_predict(sgd_clf, X_train, y_train_5, cv=5)"
      ],
      "execution_count": 24,
      "outputs": []
    },
    {
      "cell_type": "code",
      "metadata": {
        "id": "4ECAr9xJm3vw"
      },
      "source": [
        "from sklearn.metrics import confusion_matrix"
      ],
      "execution_count": 25,
      "outputs": []
    },
    {
      "cell_type": "code",
      "metadata": {
        "id": "KyzY1pw4nIka",
        "outputId": "bfc959c8-8ec1-422e-cfc5-73a4c05fd5fa",
        "colab": {
          "base_uri": "https://localhost:8080/"
        }
      },
      "source": [
        "confusion_matrix(y_train_5, y_train_pred)"
      ],
      "execution_count": 26,
      "outputs": [
        {
          "output_type": "execute_result",
          "data": {
            "text/plain": [
              "array([[53115,  1464],\n",
              "       [  916,  4505]])"
            ]
          },
          "metadata": {},
          "execution_count": 26
        }
      ]
    },
    {
      "cell_type": "code",
      "metadata": {
        "id": "dpNsr7djnNoS",
        "outputId": "afcfd794-7073-400b-8ab7-965dc950ea44",
        "colab": {
          "base_uri": "https://localhost:8080/"
        }
      },
      "source": [
        "# Pretend we reached perfection\n",
        "y_train_perfect_predictions = y_train_5\n",
        "confusion_matrix(y_train_5, y_train_perfect_predictions)"
      ],
      "execution_count": 27,
      "outputs": [
        {
          "output_type": "execute_result",
          "data": {
            "text/plain": [
              "array([[54579,     0],\n",
              "       [    0,  5421]])"
            ]
          },
          "metadata": {},
          "execution_count": 27
        }
      ]
    },
    {
      "cell_type": "markdown",
      "metadata": {
        "id": "SwZ3meQ1nq8i"
      },
      "source": [
        "**Precision** - accuracy of the positive predictions\n",
        "\n",
        "$precision= \\dfrac{TP}{TP + FP}$"
      ]
    },
    {
      "cell_type": "markdown",
      "metadata": {
        "id": "p-RO0F74oVyc"
      },
      "source": [
        "**Recall** - aka *sensitivity* or *true positive rate* - the ratio of positive instances that are correctly detected by the Never5Classifier\n",
        "\n",
        "$recall = \\dfrac{TP}{TP + FN}$"
      ]
    },
    {
      "cell_type": "markdown",
      "metadata": {
        "id": "rZFHsRhCpEMx"
      },
      "source": [
        "### Precision and Recall"
      ]
    },
    {
      "cell_type": "code",
      "metadata": {
        "id": "Arpp8ms5pPa_",
        "outputId": "44a2746d-7360-49ef-f6e6-9b1912166541",
        "colab": {
          "base_uri": "https://localhost:8080/"
        }
      },
      "source": [
        "from sklearn.metrics import precision_score, recall_score\n",
        "precision_score(y_train_5, y_train_pred)"
      ],
      "execution_count": 28,
      "outputs": [
        {
          "output_type": "execute_result",
          "data": {
            "text/plain": [
              "0.7547327860613168"
            ]
          },
          "metadata": {},
          "execution_count": 28
        }
      ]
    },
    {
      "cell_type": "code",
      "metadata": {
        "id": "v0Bj1eUzpb8F",
        "outputId": "16e25fac-1e87-4324-81b6-2e7f968ca7e1",
        "colab": {
          "base_uri": "https://localhost:8080/"
        }
      },
      "source": [
        "recall_score(y_train_5, y_train_pred)"
      ],
      "execution_count": 29,
      "outputs": [
        {
          "output_type": "execute_result",
          "data": {
            "text/plain": [
              "0.8310274857037447"
            ]
          },
          "metadata": {},
          "execution_count": 29
        }
      ]
    },
    {
      "cell_type": "markdown",
      "metadata": {
        "id": "W4aDahEjpiHX"
      },
      "source": [
        "### F1-score"
      ]
    },
    {
      "cell_type": "markdown",
      "metadata": {
        "id": "jpi57qC8pu49"
      },
      "source": [
        "F1-score is a harmonic mean of precision and recall. (harmonic mean gives much more weight to low values, so F1 will be high only if both recall and precision are high)"
      ]
    },
    {
      "cell_type": "markdown",
      "metadata": {
        "id": "oBYZDj5TqFlL"
      },
      "source": [
        "$F1 = \\dfrac{2}{\\dfrac{1}{precision}+\\dfrac{1}{recall}} = 2 * \\dfrac{precision * recall}{precision + recall} = \\dfrac{TP}{TP+ \\dfrac{FN + FP}{2}}$"
      ]
    },
    {
      "cell_type": "code",
      "metadata": {
        "id": "Jjqcc05XqoeD",
        "outputId": "6b2ba05a-61f4-4059-d5f7-ec5f184987fd",
        "colab": {
          "base_uri": "https://localhost:8080/"
        }
      },
      "source": [
        "from sklearn.metrics import f1_score\n",
        "f1_score(y_train_5, y_train_pred)"
      ],
      "execution_count": 30,
      "outputs": [
        {
          "output_type": "execute_result",
          "data": {
            "text/plain": [
              "0.791044776119403"
            ]
          },
          "metadata": {},
          "execution_count": 30
        }
      ]
    },
    {
      "cell_type": "markdown",
      "metadata": {
        "id": "n0_6FErIqxVs"
      },
      "source": [
        "## Using `decision_function()` instead of `predict()`"
      ]
    },
    {
      "cell_type": "code",
      "metadata": {
        "id": "wTarEhI9r3Xo",
        "outputId": "a271f568-70d8-4dcc-cf8f-1a82d42640bd",
        "colab": {
          "base_uri": "https://localhost:8080/"
        }
      },
      "source": [
        "y_scores = sgd_clf.decision_function([some_digit])\n",
        "y_scores"
      ],
      "execution_count": 31,
      "outputs": [
        {
          "output_type": "execute_result",
          "data": {
            "text/plain": [
              "array([-6451.08257853])"
            ]
          },
          "metadata": {},
          "execution_count": 31
        }
      ]
    },
    {
      "cell_type": "code",
      "metadata": {
        "id": "9WvIzwUNsAdu"
      },
      "source": [
        "threshold = 0\n",
        "y_some_digit_pred = (y_scores > threshold)"
      ],
      "execution_count": 32,
      "outputs": []
    },
    {
      "cell_type": "code",
      "metadata": {
        "id": "r0y33OxjsKj3",
        "outputId": "c6024ca5-8d9e-49c0-acf0-8af14ad75747",
        "colab": {
          "base_uri": "https://localhost:8080/"
        }
      },
      "source": [
        "y_some_digit_pred"
      ],
      "execution_count": 33,
      "outputs": [
        {
          "output_type": "execute_result",
          "data": {
            "text/plain": [
              "array([False])"
            ]
          },
          "metadata": {},
          "execution_count": 33
        }
      ]
    },
    {
      "cell_type": "code",
      "metadata": {
        "id": "XR5LW8FSsNQM"
      },
      "source": [
        "y_scores = cross_val_predict(sgd_clf, X_train, y_train_5, cv=3, method=\"decision_function\")"
      ],
      "execution_count": 35,
      "outputs": []
    },
    {
      "cell_type": "code",
      "metadata": {
        "id": "OHloNbussVWY"
      },
      "source": [
        "from sklearn.metrics import precision_recall_curve"
      ],
      "execution_count": 36,
      "outputs": []
    },
    {
      "cell_type": "code",
      "metadata": {
        "id": "ZSkrSOT1syPM"
      },
      "source": [
        "precisions, recalls, thresholds = precision_recall_curve(y_train_5, y_scores)"
      ],
      "execution_count": 37,
      "outputs": []
    },
    {
      "cell_type": "code",
      "metadata": {
        "id": "IztiWagjs6Td"
      },
      "source": [
        "def plot_precision_recall_vs_threshold(precisions, recalls, thresholds):\n",
        "  plt.figure(figsize=(12,8))\n",
        "  plt.plot(thresholds, precisions[:-1], \"b--\", label=\"Precision\")\n",
        "  plt.plot(thresholds, recalls[:-1], \"g-\", label=\"Recall\")\n",
        "  plt.legend()\n",
        "  plt.xlabel(\"Threshold\")\n",
        "  plt.show()\n",
        "\n"
      ],
      "execution_count": 42,
      "outputs": []
    },
    {
      "cell_type": "code",
      "metadata": {
        "id": "qJRxayyctgE1",
        "outputId": "09508620-05e7-488d-aef4-846707d95da0",
        "colab": {
          "base_uri": "https://localhost:8080/",
          "height": 497
        }
      },
      "source": [
        "plot_precision_recall_vs_threshold(precisions, recalls, thresholds)"
      ],
      "execution_count": 43,
      "outputs": [
        {
          "output_type": "display_data",
          "data": {
            "image/png": "[encoded data removed]",
            "text/plain": [
              "<Figure size 864x576 with 1 Axes>"
            ]
          },
          "metadata": {
            "needs_background": "light"
          }
        }
      ]
    },
    {
      "cell_type": "code",
      "metadata": {
        "id": "Vi-JGUhctn-U"
      },
      "source": [
        ""
      ],
      "execution_count": null,
      "outputs": []
    }
  ]
}