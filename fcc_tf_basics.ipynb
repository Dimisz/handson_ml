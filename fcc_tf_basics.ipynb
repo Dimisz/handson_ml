{
  "nbformat": 4,
  "nbformat_minor": 0,
  "metadata": {
    "colab": {
      "name": "fcc_tf_basics.ipynb",
      "provenance": [],
      "authorship_tag": "ABX9TyO+BJE0C1GqvnUFpeQGTWea",
      "include_colab_link": true
    },
    "kernelspec": {
      "name": "python3",
      "display_name": "Python 3"
    },
    "language_info": {
      "name": "python"
    }
  },
  "cells": [
    {
      "cell_type": "markdown",
      "metadata": {
        "id": "view-in-github",
        "colab_type": "text"
      },
      "source": [
        "<a href=\"https://colab.research.google.com/github/Dimisz/handson_ml/blob/main/fcc_tf_basics.ipynb\" target=\"_parent\"><img src=\"https://colab.research.google.com/assets/colab-badge.svg\" alt=\"Open In Colab\"/></a>"
      ]
    },
    {
      "cell_type": "code",
      "metadata": {
        "id": "-ZKJMnf38bEg"
      },
      "source": [
        "import tensorflow as tf"
      ],
      "execution_count": 2,
      "outputs": []
    },
    {
      "cell_type": "code",
      "metadata": {
        "id": "wIRL-U9BgAOi"
      },
      "source": [
        "rank1_tensor = tf.Variable([\"Test\"], tf.string)\n",
        "rank2_tensor = tf.Variable([[\"test\", \"ok\"], [\"test\", \"ok\"]], tf.string )\n"
      ],
      "execution_count": 10,
      "outputs": []
    },
    {
      "cell_type": "code",
      "metadata": {
        "colab": {
          "base_uri": "https://localhost:8080/"
        },
        "id": "MNMk1aK68YlE",
        "outputId": "39266910-ccde-441f-ff01-27e4f5eff24d"
      },
      "source": [
        "tf.rank(rank2_tensor)"
      ],
      "execution_count": 6,
      "outputs": [
        {
          "output_type": "execute_result",
          "data": {
            "text/plain": [
              "<tf.Tensor: shape=(), dtype=int32, numpy=2>"
            ]
          },
          "metadata": {},
          "execution_count": 6
        }
      ]
    },
    {
      "cell_type": "code",
      "metadata": {
        "colab": {
          "base_uri": "https://localhost:8080/"
        },
        "id": "pfEOGg4x8j3A",
        "outputId": "0cf868b5-15d9-469c-9e63-60874e3a9bb9"
      },
      "source": [
        "rank2_tensor.shape"
      ],
      "execution_count": 7,
      "outputs": [
        {
          "output_type": "execute_result",
          "data": {
            "text/plain": [
              "TensorShape([2, 2])"
            ]
          },
          "metadata": {},
          "execution_count": 7
        }
      ]
    },
    {
      "cell_type": "code",
      "metadata": {
        "id": "7GNpsm7p9AWZ"
      },
      "source": [
        "t = tf.ones([5,5,5,5])"
      ],
      "execution_count": 11,
      "outputs": []
    },
    {
      "cell_type": "code",
      "metadata": {
        "id": "5xzcF36a-2OV"
      },
      "source": [
        "t  = tf.reshape(t, [625])\n",
        "# t"
      ],
      "execution_count": 14,
      "outputs": []
    },
    {
      "cell_type": "markdown",
      "metadata": {
        "id": "xHQNrDx0-2s1"
      },
      "source": [
        "## Linear Regression"
      ]
    },
    {
      "cell_type": "code",
      "metadata": {
        "id": "DqXV3__tABsh"
      },
      "source": [
        "import numpy as np\n",
        "import pandas as pd\n",
        "import matplotlib.pyplot as plt\n",
        "from IPython.display import clear_output\n",
        "from six.moves import urllib\n",
        "\n",
        "import tensorflow.compat.v2.feature_column as fc\n",
        "import tensorflow as tf"
      ],
      "execution_count": 15,
      "outputs": []
    },
    {
      "cell_type": "code",
      "metadata": {
        "id": "4ky3un7kC5yF"
      },
      "source": [
        "# Get training dataset\n",
        "df_train = pd.read_csv(\"https://storage.googleapis.com/tf-datasets/titanic/train.csv\")"
      ],
      "execution_count": 17,
      "outputs": []
    },
    {
      "cell_type": "code",
      "metadata": {
        "id": "1cOH2JotE1AO"
      },
      "source": [
        "# Get testing dataset\n",
        "df_eval = pd.read_csv(\"https://storage.googleapis.com/tf-datasets/titanic/eval.csv\")"
      ],
      "execution_count": 19,
      "outputs": []
    },
    {
      "cell_type": "code",
      "metadata": {
        "id": "h8YnoEdDE9TK"
      },
      "source": [
        "y_train = df_train.pop('survived')\n",
        "y_eval = df_eval.pop('survived')"
      ],
      "execution_count": null,
      "outputs": []
    }
  ]
}